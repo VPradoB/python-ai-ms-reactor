{
 "cells": [
  {
   "cell_type": "markdown",
   "id": "0a1b6fdc-365e-461b-bc40-a578dfeaad2e",
   "metadata": {},
   "source": [
    "# 💬 Streaming de respuestas: Gemini\n",
    "\n",
    "Cuando trabajamos con LLMs, a veces queremos que el modelo genere texto en tiempo real, caracter por caracter o frase por frase. A esto se le llama **respuesta en streaming**. la api de Gemini en este momento no soporta este formato de respuesta.\n",
    "\n",
    "La API de **OpenAI** permite hacer streaming de respuestas mediante un bucle que consume eventos parciales. Puedes ver un ejemplo práctico aquí:\n",
    "\n",
    "👉 [Ver ejemplo con OpenAI (streaming)](./02_chat_stream_openai.ipynb)"
   ]
  }
 ],
 "metadata": {
  "kernelspec": {
   "display_name": "Python 3 (ipykernel)",
   "language": "python",
   "name": "python3"
  },
  "language_info": {
   "codemirror_mode": {
    "name": "ipython",
    "version": 3
   },
   "file_extension": ".py",
   "mimetype": "text/x-python",
   "name": "python",
   "nbconvert_exporter": "python",
   "pygments_lexer": "ipython3",
   "version": "3.12.9"
  }
 },
 "nbformat": 4,
 "nbformat_minor": 5
}
