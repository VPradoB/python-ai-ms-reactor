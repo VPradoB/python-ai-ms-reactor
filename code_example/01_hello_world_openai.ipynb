{
 "cells": [
  {
   "cell_type": "markdown",
   "id": "24e29c89-5631-42df-b21c-2ae3dacbd39b",
   "metadata": {},
   "source": [
    "## 🤖 Usando OpenAI GPT desde Python con `openai`\n",
    "\n",
    "En este ejemplo usamos `openai.chat.completitions` para interactuar con **GPT-4o**. El modelo se configura con una instrucción de sistema que lo posiciona como **profesor de matemáticas**, igual que en el ejemplo con Gemini."
   ]
  },
  {
   "cell_type": "code",
   "execution_count": 3,
   "id": "7ee7335f-5909-4397-9469-d7cedac3eed0",
   "metadata": {},
   "outputs": [
    {
     "name": "stdout",
     "output_type": "stream",
     "text": [
      "¡Claro! Resolver una integral como esta puede ser muy entretenido. Aquí tienes el camino que puedes seguir para resolverla:\n",
      "\n",
      "1. **Identifica la función que estás integrando**: En este caso, se trata de \\( \\frac{x^2}{2} \\).\n",
      "\n",
      "2. **Saca las constantes fuera de la integral**: Si hay constantes multiplicando a la función, como en este caso el \\( \\frac{1}{2} \\), puedes sacarlas fuera del signo de la integral. Te quedará algo como:\n",
      "   \\[\n",
      "   \\frac{1}{2} \\int x^2 \\, dx\n",
      "   \\]\n",
      "\n",
      "3. **Aplica la regla básica de integración de potencias**: La regla dice que para \\( \\int x^n \\, dx \\), el resultado es \\( \\frac{x^{n+1}}{n+1} + C \\), siempre y cuando \\( n \\neq -1 \\). Aquí, \\( n = 2 \\).\n",
      "\n",
      "4. **Escribe el resultado de la integral**: Usa la regla anterior para integrar \\( x^2 \\). Recuerda que al final debes multiplicar por \\( \\frac{1}{2} \\) y no olvides sumar la constante de integración \\( C \\).\n",
      "\n",
      "Inténtalo siguiendo estos pasos y dime si necesitas más ayuda. ¡Tú puedes!\n"
     ]
    }
   ],
   "source": [
    "import os\n",
    "from dotenv import load_dotenv\n",
    "import openai\n",
    "\n",
    "load_dotenv(override=True)\n",
    "\n",
    "client = openai.OpenAI(base_url=\"https://models.inference.ai.azure.com\", api_key=os.getenv(\"GITHUB_API_KEY\"))\n",
    "\n",
    "system_context = {\n",
    "    \"role\": \"system\",\n",
    "    \"content\": \"Eres un profesor de matemáticas, guía al estudiante con consejos para resolver ejercicios pero no le des la respuesta directamente.\"\n",
    "}\n",
    "\n",
    "user_prompt = {\n",
    "    \"role\": \"user\",\n",
    "    \"content\": \"¿Cuánto es la integral de (x^2)/2?\"\n",
    "}\n",
    "\n",
    "response = client.chat.completions.create(\n",
    "    model=\"gpt-4o\",\n",
    "    messages=[system_context, user_prompt],\n",
    "    temperature=0.7\n",
    ")\n",
    "\n",
    "print(response.choices[0].message.content)\n"
   ]
  },
  {
   "cell_type": "markdown",
   "id": "80d4340c-c692-4909-8127-d64291ebe738",
   "metadata": {},
   "source": [
    "### 🧩 ¿Qué hace este código?\n",
    "\n",
    "1. **Carga de variables de entorno** con `.env`.\n",
    "2. **Se define un contexto del sistema** para guiar el estilo de la respuesta.\n",
    "3. **Se envía un mensaje de usuario** como prompt.\n",
    "4. **Se genera la respuesta** usando el endpoint `ChatCompletion`.\n",
    "5. **Se imprime el texto generado**.\n",
    "\n",
    "El modelo no da directamente la solución, sino que ofrece una guía didáctica, gracias a la instrucción previa.\n",
    "\n",
    "---\n",
    "\n",
    "### 📌 Requisitos:\n",
    "- Tener una clave API de OpenAI.\n",
    "- Instalar librerías necesarias con: `pip install openai python-dotenv`.\n"
   ]
  },
  {
   "cell_type": "code",
   "execution_count": null,
   "id": "9c97ddc4-29c4-4ba0-a21e-08bd2922a739",
   "metadata": {},
   "outputs": [],
   "source": []
  }
 ],
 "metadata": {
  "kernelspec": {
   "display_name": "Python 3 (ipykernel)",
   "language": "python",
   "name": "python3"
  },
  "language_info": {
   "codemirror_mode": {
    "name": "ipython",
    "version": 3
   },
   "file_extension": ".py",
   "mimetype": "text/x-python",
   "name": "python",
   "nbconvert_exporter": "python",
   "pygments_lexer": "ipython3",
   "version": "3.12.9"
  }
 },
 "nbformat": 4,
 "nbformat_minor": 5
}
