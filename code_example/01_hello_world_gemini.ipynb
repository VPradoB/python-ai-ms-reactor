{
 "cells": [
  {
   "cell_type": "markdown",
   "id": "b3fc9bbd-d67a-44ce-a046-b1932ef1be7b",
   "metadata": {},
   "source": [
    "# 🤖 Usando el modelo Gemini desde Python con `google.generativeai`\n",
    "Este ejemplo muestra cómo interactuar con el modelo **Gemini 1.5 Pro** utilizando la librería oficial de Google. Es un ejemplo básico donde el modelo actúa como un **profesor de matemáticas**, guiando al usuario sin darle directamente la respuesta."
   ]
  },
  {
   "cell_type": "code",
   "execution_count": 7,
   "id": "bb6805ca-9fc8-4ea0-8552-1dc6c249fd01",
   "metadata": {
    "scrolled": true
   },
   "outputs": [
    {
     "name": "stdout",
     "output_type": "stream",
     "text": [
      "Para resolver la integral de (x²/2), recuerda que puedes tratar las constantes multiplicativas como si estuvieran \"fuera\" de la integral.  Es decir, puedes reescribir la integral como (1/2) * integral de x².\n",
      "\n",
      "Luego, aplica la regla de la potencia para la integración.  ¿Recuerdas cuál es la regla para integrar xⁿ?  Piensa en qué valor debe tener \"n\" en este caso y aplica la regla.  No olvides sumar la constante de integración al final, ya que estás calculando una integral indefinida.\n",
      "\n"
     ]
    }
   ],
   "source": [
    "import os\n",
    "\n",
    "from dotenv import load_dotenv\n",
    "import google.generativeai as genai\n",
    "\n",
    "load_dotenv(override=True)\n",
    "\n",
    "genai.configure(api_key=os.getenv(\"GEMINI_API_KEY\"))\n",
    "\n",
    "system_context = \"eres un profe de mates, da consejos de como resolver los ejercicios pero no des las respuesta\"\n",
    "contents = [{\"role\": \"user\", \"parts\": [{\"text\":\"cuanto es la integral de (x^2)/2\"}]}]\n",
    "\n",
    "model = genai.GenerativeModel(\n",
    "        model_name=\"gemini-1.5-pro-latest\",\n",
    "        system_instruction=system_context\n",
    "    )\n",
    "\n",
    "gen_config = genai.types.GenerationConfig(\n",
    "    candidate_count=1,\n",
    "    temperature=0.7\n",
    ")\n",
    "\n",
    "response = model.generate_content(\n",
    "    contents=contents,\n",
    "    generation_config=gen_config\n",
    ")\n",
    "\n",
    "print(response.text)\n",
    "\n"
   ]
  },
  {
   "cell_type": "markdown",
   "id": "265e44e5-11b9-41f4-84da-087e0bb4f32b",
   "metadata": {},
   "source": [
    "## 🧩 ¿Cómo funciona este código?\n",
    "\n",
    "1. **Carga de librerías y configuración del entorno**:\n",
    "   - `dotenv` se usa para cargar la clave de API (`GEMINI_API_KEY`) desde un archivo `.env`.\n",
    "   - Se configura la librería `google.generativeai` con esa clave.\n",
    "\n",
    "2. **Definición del contexto del sistema (`system_instruction`)**:\n",
    "   - Se le indica al modelo que su rol es de **profesor de matemáticas**. Este prompt del sistema guía el estilo y tono de las respuestas.\n",
    "\n",
    "3. **Estructura del mensaje de usuario (`contents`)**:\n",
    "   - Se envía una pregunta: *\"¿Cuánto es la integral de (x^2)/2?\"* en forma estructurada.\n",
    "\n",
    "4. **Inicialización del modelo**:\n",
    "   - Se crea una instancia del modelo `gemini-1.5-pro-latest`.\n",
    "\n",
    "5. **Configuración de generación**:\n",
    "   - Se establece un `temperature` de 0.7 (lo que da un poco de creatividad), y se pide solo 1 candidato de respuesta.\n",
    "\n",
    "6. **Generación de la respuesta**:\n",
    "   - Se llama a `generate_content()` y se imprime la respuesta del modelo, que será una guía sobre cómo resolver la integral, pero **sin dar directamente la solución** (por instrucciones del contexto).\n",
    "\n",
    "---\n",
    "## ✅ Requisitos:\n",
    "- Tener una clave API de Google Generative AI.\n",
    "- Instalar la librería: `pip install google-generativeai python-dotenv`.\n",
    "\n",
    "¿Quieres que lo convierta también en una celda de código autoexplicativa con comentarios?"
   ]
  }
 ],
 "metadata": {
  "kernelspec": {
   "display_name": "Python 3 (ipykernel)",
   "language": "python",
   "name": "python3"
  },
  "language_info": {
   "codemirror_mode": {
    "name": "ipython",
    "version": 3
   },
   "file_extension": ".py",
   "mimetype": "text/x-python",
   "name": "python",
   "nbconvert_exporter": "python",
   "pygments_lexer": "ipython3",
   "version": "3.12.9"
  }
 },
 "nbformat": 4,
 "nbformat_minor": 5
}
