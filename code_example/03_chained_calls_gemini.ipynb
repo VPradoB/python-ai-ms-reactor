{
 "cells": [
  {
   "cell_type": "markdown",
   "id": "6d0367c1-bc4b-4273-9a7a-12f07b32caa2",
   "metadata": {},
   "source": [
    "# 🔗 Llamadas encadenadas con Gemini\n",
    "\n",
    "Al igual que con la API de OpenAI, también es posible implementar un flujo de llamadas encadenadas (*chained calls*) con Gemini. En este ejemplo, se sigue un patrón de tres pasos para mejorar progresivamente un texto generado por el modelo:\n",
    "\n",
    "1. **✍️ Generación inicial**: Se le pide al modelo que explique cómo funcionan los LLM en un solo párrafo.  \n",
    "2. **🧐 Revisión editorial**: Luego se le pide que actúe como editor y dé retroalimentación detallada sobre claridad, coherencia y cautivación.  \n",
    "3. **🛠 Revisión final**: Finalmente, el modelo reescribe el contenido original usando los comentarios como guía, manteniéndose en un solo párrafo.\n",
    "\n",
    "Este patrón ofrece las siguientes ventajas:\n",
    "\n",
    "- ✅ Mejora progresiva del contenido.\n",
    "- ✅ Separa claramente los roles de generación, evaluación y reescritura.\n",
    "- ✅ Simula un flujo editorial profesional, útil en entornos reales de contenido.\n",
    "\n",
    "> 🔍 **Nota**: Aunque Gemini no tiene una arquitectura explícita de roles como OpenAI (system/user/assistant), se pueden simular los comportamientos deseados mediante prompts bien diseñados y consecutivos.\n",
    "\n",
    "Esta estrategia de *refinamiento iterativo* puede aplicarse en tareas como redacción, revisión de código, generación de ideas, entre otras. 🚀\n"
   ]
  },
  {
   "cell_type": "code",
   "execution_count": 6,
   "id": "dc2e23bd-b21c-4f19-8c8e-986b1d41c56b",
   "metadata": {},
   "outputs": [
    {
     "name": "stdout",
     "output_type": "stream",
     "text": [
      "Explicación: Los modelos lingüísticos grandes (LLM) son modelos de redes neuronales profundas entrenados en cantidades masivas de datos de texto. Funcionan prediciendo la siguiente palabra en una secuencia basándose en los patrones y relaciones aprendidos de los datos de entrenamiento. Esta capacidad predictiva les permite generar texto similar al humano, traducir idiomas, escribir diferentes tipos de contenido creativo y responder a preguntas de manera informativa. Los LLM utilizan una arquitectura transformadora, que les permite procesar y comprender el contexto de largas secuencias de texto mediante mecanismos de atención, ponderando la importancia de diferentes partes de la entrada al generar la salida.  A través del entrenamiento con cantidades masivas de datos, los LLM desarrollan una comprensión estadística del lenguaje, lo que les permite realizar una amplia gama de tareas relacionadas con el lenguaje.\n",
      "\n",
      "\n",
      "\n",
      "Retroalimentación: La explicación proporciona una descripción decente general de los LLM, pero podría mejorar en cuanto a claridad, coherencia y atractivo. He aquí algunos comentarios detallados:\n",
      "\n",
      "* **Claridad:** Si bien la explicación es generalmente comprensible, podría ser más clara para los no expertos. Términos como \"modelos de red neuronal profunda\", \"arquitectura transformadora\" y \"mecanismos de atención\" podrían requerir más explicación o ejemplos.  Considera la posibilidad de definir brevemente estos términos o proporcionar analogías para hacerlos más accesibles. Además, la frase \"comprensión estadística del lenguaje\" podría ser más clara si se ilustra con ejemplos concretos de cómo se manifiesta esta comprensión.\n",
      "\n",
      "* **Coherencia:** La transición entre discutir las capacidades predictivas y la arquitectura del transformador podría ser más fluida.  Hay un ligero salto de *lo que* hacen los LLM a *cómo* lo hacen. Considera la posibilidad de añadir una frase de transición para conectar estas dos ideas. Además, el último párrafo, que menciona la \"comprensión estadística\", podría integrarse mejor con el resto de la explicación. Podría conectarse de nuevo a la idea de predecir la siguiente palabra o a la arquitectura del transformador.\n",
      "\n",
      "* **Cautivación:** La explicación es bastante seca y factual. Para hacerla más atractiva, considera la posibilidad de añadir un gancho al principio para despertar el interés del lector. Podría tratarse de un breve ejemplo de lo que pueden hacer los LLM, una pregunta provocadora o una anécdota. También podrías añadir algunos ejemplos concretos de las tareas que pueden realizar los LLM, o los tipos de datos de texto en los que están entrenados, para hacer la información más tangible y relatable. Finalmente, una frase final que resume el impacto o el potencial futuro de los LLM podría dejar una impresión más duradera en el lector.\n",
      "\n",
      "\n",
      "\n",
      "Artículo Final: Los modelos lingüísticos grandes (LLM) son como cerebros digitales entrenados con una biblioteca masiva de texto, aprendiendo a predecir la siguiente palabra en una secuencia basándose en los patrones y relaciones que descubren en sus datos de entrenamiento. Esta capacidad predictiva, similar a la forma en que los humanos anticipan las palabras en una conversación, les permite realizar tareas notables como generar texto similar al humano, traducir idiomas y responder a preguntas de manera informativa. Para lograr esto, los LLM utilizan una \"arquitectura transformadora\" que, al igual que un lector atento que destaca pasajes importantes, se centra en las partes más relevantes de un texto utilizando \"mecanismos de atención\", ponderando esencialmente diferentes palabras en función de su importancia contextual. Esta capacidad de centrarse en los aspectos cruciales de una entrada es lo que permite a los LLM procesar y comprender incluso largas secuencias de texto. A través de este extenso entrenamiento, desarrollan una \"comprensión estadística del lenguaje\", lo que significa que no \"entienden\" el lenguaje de la misma manera que los humanos, sino que se vuelven increíblemente hábiles para predecir qué palabras deben seguir a continuación, un talento que se traduce en la escritura de diferentes tipos de contenido creativo, la realización de resúmenes y la participación en conversaciones realistas. Este notable avance en el procesamiento del lenguaje natural tiene el potencial de revolucionar la forma en que interactuamos con las máquinas y accedemos a la información.\n",
      "\n"
     ]
    }
   ],
   "source": [
    "import os\n",
    "from dotenv import load_dotenv\n",
    "import google.generativeai as genai\n",
    "\n",
    "load_dotenv(override=True)\n",
    "\n",
    "genai.configure(api_key=os.getenv(\"GEMINI_API_KEY\"))\n",
    "model = genai.GenerativeModel(\"gemini-1.5-pro-latest\")\n",
    "\n",
    "explanation_response = model.generate_content(\n",
    "    \"Explica cómo funcionan los LLM en un solo párrafo.\"\n",
    ")\n",
    "explanation = explanation_response.text\n",
    "print(\"Explicación:\", explanation)\n",
    "\n",
    "feedback_prompt = (\n",
    "    \"Eres un editor. Revisa la explicación y proporciona comentarios detallados \"\n",
    "    \"sobre claridad, coherencia y cautivación (pero no la edites tú mismo):\\n\\n\"\n",
    "    + explanation\n",
    ")\n",
    "feedback_response = model.generate_content(feedback_prompt)\n",
    "feedback = feedback_response.text\n",
    "print(\"\\n\\nRetroalimentación:\", feedback)\n",
    "\n",
    "final_prompt = (\n",
    "    \"Revisa el artículo utilizando los siguientes comentarios, pero mantenlo a un solo párrafo.\"\n",
    "    f\"\\nExplicación:\\n{explanation}\\n\\nComentarios:\\n{feedback}\"\n",
    ")\n",
    "final_response = model.generate_content(final_prompt)\n",
    "final_article = final_response.text\n",
    "print(\"\\n\\nArtículo Final:\", final_article)\n"
   ]
  }
 ],
 "metadata": {
  "kernelspec": {
   "display_name": "Python 3 (ipykernel)",
   "language": "python",
   "name": "python3"
  },
  "language_info": {
   "codemirror_mode": {
    "name": "ipython",
    "version": 3
   },
   "file_extension": ".py",
   "mimetype": "text/x-python",
   "name": "python",
   "nbconvert_exporter": "python",
   "pygments_lexer": "ipython3",
   "version": "3.12.9"
  }
 },
 "nbformat": 4,
 "nbformat_minor": 5
}
